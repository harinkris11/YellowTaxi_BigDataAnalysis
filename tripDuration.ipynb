{
 "cells": [
  {
   "cell_type": "code",
   "execution_count": 1,
   "id": "b91fc7bd-1bde-4674-aae9-0ef37db0badd",
   "metadata": {},
   "outputs": [],
   "source": [
    "%%capture\n",
    "!pip install geopandas"
   ]
  },
  {
   "cell_type": "code",
   "execution_count": 2,
   "id": "11618737-ea8c-4832-9711-405f39853fe0",
   "metadata": {},
   "outputs": [
    {
     "name": "stderr",
     "output_type": "stream",
     "text": [
      "Matplotlib created a temporary cache directory at /scratch/hradhakrishnan/job_30614111/matplotlib-lcpc70p5 because the default path (/home/jovyan/.cache/matplotlib) is not a writable directory; it is highly recommended to set the MPLCONFIGDIR environment variable to a writable directory, in particular to speed up the import of Matplotlib and to better support multiprocessing.\n"
     ]
    }
   ],
   "source": [
    "from pyspark.sql import SparkSession\n",
    "from pyspark.sql.types import LongType, DecimalType, IntegerType, StructType, StructField, StringType, DoubleType\n",
    "from pyspark.sql.functions import col, month, year, isnan, desc, unix_timestamp, to_timestamp, dayofmonth, hour, minute, second, mean\n",
    "from functools import reduce\n",
    "import seaborn as sns\n",
    "import pandas as pd\n",
    "import numpy as np\n",
    "import geopandas as gpd\n",
    "import matplotlib.pyplot as plt"
   ]
  },
  {
   "cell_type": "code",
   "execution_count": 3,
   "id": "6dd83954-978c-4996-a598-0d73e14eeb18",
   "metadata": {},
   "outputs": [],
   "source": [
    "# Setting up a theme with Seaborn\n",
    "sns.set_theme(style=\"whitegrid\")\n",
    "\n",
    "# Adjusting font scale for better readability\n",
    "sns.set_context(\"notebook\", font_scale=1.2)"
   ]
  },
  {
   "cell_type": "code",
   "execution_count": 4,
   "id": "6059634b-d5d8-4e9f-a5a2-15402f519235",
   "metadata": {},
   "outputs": [],
   "source": [
    "spark = SparkSession.builder \\\n",
    "    .config(\"spark.driver.memory\", \"32g\") \\\n",
    "\t.config(\"spark.executor.memory\", \"8g\") \\\n",
    "    .config('spark.executor.instances', 8) \\\n",
    "\t.appName(\"Yellow Taxi EDA\") \\\n",
    "\t.getOrCreate()"
   ]
  },
  {
   "cell_type": "code",
   "execution_count": 5,
   "id": "dd52fc6c-1671-4b59-8d07-e09b6581722b",
   "metadata": {},
   "outputs": [],
   "source": [
    "base_path = 'yellow_taxi_data/yellow_tripdata_2023-{:02d}.parquet'\n",
    "\n",
    "paths=[]\n",
    "for mo in range(1, 8):  # This loops from 1 to 12\n",
    "    path = base_path.format(mo)  # Formats the month with leading zero if necessary\n",
    "    paths.append(path)"
   ]
  },
  {
   "cell_type": "code",
   "execution_count": 6,
   "id": "d5959a0b-37e0-49a1-b8e4-ee2cb315bd4d",
   "metadata": {},
   "outputs": [
    {
     "name": "stdout",
     "output_type": "stream",
     "text": [
      "+--------+--------------------+---------------------+---------------+-------------+----------+------------------+------------+------------+------------+-----------+-----+-------+----------+------------+---------------------+------------+--------------------+-----------+\n",
      "|VendorID|tpep_pickup_datetime|tpep_dropoff_datetime|passenger_count|trip_distance|RatecodeID|store_and_fwd_flag|PULocationID|DOLocationID|payment_type|fare_amount|extra|mta_tax|tip_amount|tolls_amount|improvement_surcharge|total_amount|congestion_surcharge|airport_fee|\n",
      "+--------+--------------------+---------------------+---------------+-------------+----------+------------------+------------+------------+------------+-----------+-----+-------+----------+------------+---------------------+------------+--------------------+-----------+\n",
      "|       2| 2023-01-01 00:32:10|  2023-01-01 00:40:36|            1.0|         0.97|       1.0|                 N|         161|         141|           2|        9.3|  1.0|    0.5|       0.0|         0.0|                  1.0|        14.3|                 2.5|        0.0|\n",
      "+--------+--------------------+---------------------+---------------+-------------+----------+------------------+------------+------------+------------+-----------+-----+-------+----------+------------+---------------------+------------+--------------------+-----------+\n",
      "only showing top 1 row\n",
      "\n"
     ]
    }
   ],
   "source": [
    "def load_and_cast(filepath):\n",
    "    df = spark.read.parquet(filepath)\n",
    "    df = df.withColumn(\"VendorID\", col(\"VendorID\").cast(IntegerType()))\n",
    "    return df\n",
    "\n",
    "# Load, cast, and accumulate all DataFrames\n",
    "dataframes = [load_and_cast(path) for path in paths]\n",
    "df = reduce(lambda df1, df2: df1.unionByName(df2), dataframes)\n",
    "\n",
    "# Show the DataFrame\n",
    "df.show(1)"
   ]
  },
  {
   "cell_type": "code",
   "execution_count": 7,
   "id": "a2717790-69b1-43e8-a576-f724e81eb372",
   "metadata": {},
   "outputs": [],
   "source": [
    "from shapely.geometry import Point"
   ]
  },
  {
   "cell_type": "code",
   "execution_count": 8,
   "id": "f90b661f-d2c4-44fe-b1b7-0699077e2dac",
   "metadata": {},
   "outputs": [],
   "source": [
    "zone = gpd.read_file(\"yellow_taxi_data/taxi_zones/taxi_zones.shp\")\n",
    "\n",
    "zone.set_crs(\"EPSG:2263\", inplace=True)\n",
    "zone['center'] = zone.representative_point()\n",
    "center_gdf = gpd.GeoDataFrame(zone, geometry=zone['center'])\n",
    "center_gdf = center_gdf.to_crs(\"EPSG:4326\")\n",
    "\n",
    "zone['long'] = center_gdf.geometry.x\n",
    "zone['lat'] = center_gdf.geometry.y\n",
    "\n",
    "zone = zone.drop(columns = ['OBJECTID','geometry','center'])"
   ]
  },
  {
   "cell_type": "code",
   "execution_count": 9,
   "id": "e33e0c1d-9eb1-4ade-a4dd-4e3777f6e790",
   "metadata": {},
   "outputs": [],
   "source": [
    "schemazone = StructType([\n",
    "    StructField(\"Shape_Leng\", DoubleType(), True),\n",
    "    StructField(\"Shape_Area\", DoubleType(), True),\n",
    "    StructField(\"Zone\", StringType(), True),\n",
    "    StructField(\"LocationID\", StringType(), True),\n",
    "    StructField(\"Borough\", StringType(), True),\n",
    "    StructField(\"Long\", DoubleType(), True),\n",
    "    StructField(\"Lat\", DoubleType(), True)\n",
    "\n",
    "])\n",
    "\n",
    "zonedf = spark.createDataFrame(zone, schemazone)"
   ]
  },
  {
   "cell_type": "code",
   "execution_count": 10,
   "id": "465cf78b-75f2-4b24-b03f-0c5089d1de86",
   "metadata": {},
   "outputs": [],
   "source": [
    "merged_zone = df.join(zonedf, df.PULocationID == zonedf.LocationID, how = 'left')"
   ]
  },
  {
   "cell_type": "code",
   "execution_count": 11,
   "id": "43770274-2597-4ba5-8ae3-776b67cf7101",
   "metadata": {},
   "outputs": [],
   "source": [
    "merged_zone = merged_zone.drop(*('VendorID','passenger_count','RatecodeID','store_and_fwd_flag','payment_type', 'fare_amount',\n",
    "                                'extra','mta_tax','tip_amount','tolls_amount','improvement_surcharge','total_amount','congestion_surcharge',\n",
    "                                'airport_fee', 'LocationID'))"
   ]
  },
  {
   "cell_type": "code",
   "execution_count": 12,
   "id": "41237ce2-c1c5-48a2-a49a-48677cb1f6f2",
   "metadata": {},
   "outputs": [],
   "source": [
    "merged_zone = merged_zone.withColumnRenamed(\"Shape_Leng\", \"PU_Shape_Leng\") \\\n",
    "                         .withColumnRenamed(\"Shape_Area\", \"PU_Shape_Area\") \\\n",
    "                         .withColumnRenamed(\"Zone\", \"PU_Zone\") \\\n",
    "                         .withColumnRenamed(\"Borough\", \"PU_Borough\") \\\n",
    "                         .withColumnRenamed(\"long\", \"PU_Long\") \\\n",
    "                         .withColumnRenamed(\"lat\", \"PU_Lat\")"
   ]
  },
  {
   "cell_type": "code",
   "execution_count": 13,
   "id": "49b89da5-2a46-45fa-9bc2-e2988ded5f01",
   "metadata": {},
   "outputs": [],
   "source": [
    "merged_zone = merged_zone.join(zonedf, merged_zone.DOLocationID == zonedf.LocationID, how = 'left')"
   ]
  },
  {
   "cell_type": "code",
   "execution_count": 14,
   "id": "e6434dea-125a-4696-90c5-9faf53af2a83",
   "metadata": {},
   "outputs": [],
   "source": [
    "merged_zone = merged_zone.withColumnRenamed(\"Shape_Leng\", \"DO_Shape_Leng\") \\\n",
    "                         .withColumnRenamed(\"Shape_Area\", \"DO_Shape_Area\") \\\n",
    "                         .withColumnRenamed(\"Zone\", \"DO_Zone\") \\\n",
    "                         .withColumnRenamed(\"Borough\", \"DO_Borough\") \\\n",
    "                         .withColumnRenamed(\"long\", \"DO_Long\") \\\n",
    "                         .withColumnRenamed(\"lat\", \"DO_Lat\")"
   ]
  },
  {
   "cell_type": "code",
   "execution_count": 15,
   "id": "2e8caa29-62bc-4c49-81e0-73b10437d886",
   "metadata": {},
   "outputs": [],
   "source": [
    "from pyspark.sql.functions import col, unix_timestamp, expr\n",
    "\n",
    "merged_zone = merged_zone.withColumn('tpep_pickup_datetime', col('tpep_pickup_datetime').cast('timestamp'))\n",
    "merged_zone = merged_zone.withColumn('tpep_dropoff_datetime', col('tpep_dropoff_datetime').cast('timestamp'))\n",
    "merged_zone = merged_zone.withColumn('time_diff_seconds', unix_timestamp('tpep_dropoff_datetime') - unix_timestamp('tpep_pickup_datetime'))\n",
    "\n",
    "merged_zone = merged_zone.withColumn('duration_mins', (col('time_diff_seconds') / 60).cast('int'))\n",
    "merged_zone = merged_zone.drop('time_diff_seconds')"
   ]
  },
  {
   "cell_type": "code",
   "execution_count": 16,
   "id": "87f8882e-3c73-4fd7-857f-bd791b20233f",
   "metadata": {},
   "outputs": [],
   "source": [
    "merged_zone = merged_zone.drop('LocationID')"
   ]
  },
  {
   "cell_type": "code",
   "execution_count": 17,
   "id": "66aa27f2-5220-408e-9c7b-6b36fde9b93c",
   "metadata": {},
   "outputs": [],
   "source": [
    "from pyspark.sql.functions import year, month, dayofmonth, hour, minute, dayofweek\n",
    "\n",
    "merged_zone = merged_zone.withColumn('month', month('tpep_pickup_datetime')) \\\n",
    "                         .withColumn('day', dayofmonth('tpep_pickup_datetime')) \\\n",
    "                         .withColumn('hour', hour('tpep_pickup_datetime')) \\\n",
    "                         .withColumn('minute', minute('tpep_pickup_datetime'))\\\n",
    "                         .withColumn('dayOfWeek', dayofweek('tpep_pickup_datetime'))"
   ]
  },
  {
   "cell_type": "code",
   "execution_count": 18,
   "id": "660e54f3-ae66-4e27-9398-126d28d67029",
   "metadata": {},
   "outputs": [],
   "source": [
    "merged_zone = merged_zone.withColumn('is_weekend', (merged_zone.dayOfWeek.isin([1, 7])).cast('boolean'))\n"
   ]
  },
  {
   "cell_type": "code",
   "execution_count": 20,
   "id": "b00d3a63-16ba-4cff-a80f-77cb205fdcb6",
   "metadata": {},
   "outputs": [],
   "source": [
    "from pyspark.sql.functions import col, sum\n",
    "\n",
    "na_counts = merged_zone.select([sum(col(c).isNull().cast(\"int\")).alias(c) for c in merged_zone.columns])"
   ]
  },
  {
   "cell_type": "code",
   "execution_count": 21,
   "id": "23776e11-c360-4e70-9d2c-bcd506636efc",
   "metadata": {},
   "outputs": [
    {
     "name": "stdout",
     "output_type": "stream",
     "text": [
      "+--------------------+---------------------+-------------+------------+------------+-------------+-------------+-------+----------+-------+------+-------------+-------------+-------+----------+-------+------+-------------+-----+---+----+------+---------+----------+\n",
      "|tpep_pickup_datetime|tpep_dropoff_datetime|trip_distance|PULocationID|DOLocationID|PU_Shape_Leng|PU_Shape_Area|PU_Zone|PU_Borough|PU_Long|PU_Lat|DO_Shape_Leng|DO_Shape_Area|DO_Zone|DO_Borough|DO_Long|DO_Lat|duration_mins|month|day|hour|minute|dayOfWeek|is_weekend|\n",
      "+--------------------+---------------------+-------------+------------+------------+-------------+-------------+-------+----------+-------+------+-------------+-------------+-------+----------+-------+------+-------------+-----+---+----+------+---------+----------+\n",
      "|                   0|                    0|            0|           0|           0|       255034|       255034| 255034|    255034| 255034|255034|       327630|       327630| 327630|    327630| 327630|327630|            0|    0|  0|   0|     0|        0|         0|\n",
      "+--------------------+---------------------+-------------+------------+------------+-------------+-------------+-------+----------+-------+------+-------------+-------------+-------+----------+-------+------+-------------+-----+---+----+------+---------+----------+\n",
      "\n"
     ]
    }
   ],
   "source": [
    "na_counts.show()"
   ]
  },
  {
   "cell_type": "code",
   "execution_count": 22,
   "id": "3f044993-4d9c-4897-b761-de40a92e052d",
   "metadata": {},
   "outputs": [
    {
     "data": {
      "text/plain": [
       "22408473"
      ]
     },
     "execution_count": 22,
     "metadata": {},
     "output_type": "execute_result"
    }
   ],
   "source": [
    "merged_zone.count()"
   ]
  },
  {
   "cell_type": "code",
   "execution_count": 23,
   "id": "714f5781-dbb4-4212-a6e8-cb391194b54a",
   "metadata": {},
   "outputs": [
    {
     "name": "stdout",
     "output_type": "stream",
     "text": [
      "+--------------------+---------------------+-------------+------------+------------+-------------+-------------+-------+----------+-------+------+---------------+----------------+--------------------+----------+------------------+------------------+-------------+-----+---+----+------+---------+----------+\n",
      "|tpep_pickup_datetime|tpep_dropoff_datetime|trip_distance|PULocationID|DOLocationID|PU_Shape_Leng|PU_Shape_Area|PU_Zone|PU_Borough|PU_Long|PU_Lat|  DO_Shape_Leng|   DO_Shape_Area|             DO_Zone|DO_Borough|           DO_Long|            DO_Lat|duration_mins|month|day|hour|minute|dayOfWeek|is_weekend|\n",
      "+--------------------+---------------------+-------------+------------+------------+-------------+-------------+-------+----------+-------+------+---------------+----------------+--------------------+----------+------------------+------------------+-------------+-----+---+----+------+---------+----------+\n",
      "| 2023-01-01 00:10:50|  2023-01-01 00:20:19|         1.41|         264|         186|         NULL|         NULL|   NULL|      NULL|   NULL|  NULL|0.0246963902234|3.70729416953E-5|Penn Station/Madi...| Manhattan|-73.99245532771059|40.748476361762066|            9|    1|  1|   0|    10|        1|      true|\n",
      "| 2023-01-01 00:27:35|  2023-01-01 00:37:49|          1.7|         264|         114|         NULL|         NULL|   NULL|      NULL|   NULL|  NULL|0.0317270347711|4.70207704945E-5|Greenwich Village...| Manhattan|-73.99867794660439| 40.72861173158826|           10|    1|  1|   0|    27|        1|      true|\n",
      "| 2023-01-01 00:42:01|  2023-01-01 00:49:44|         1.14|         264|          79|         NULL|         NULL|   NULL|      NULL|   NULL|  NULL|0.0426249113144|1.07893068218E-4|        East Village| Manhattan|-73.98521412439773| 40.72794427890514|            7|    1|  1|   0|    42|        1|      true|\n",
      "| 2023-01-01 00:53:36|  2023-01-01 01:34:51|         6.19|         264|         239|         NULL|         NULL|   NULL|      NULL|   NULL|  NULL|0.0636261152958|2.04715440774E-4|Upper West Side S...| Manhattan|-73.97827334184863| 40.78410736455398|           41|    1|  1|   0|    53|        1|      true|\n",
      "| 2023-01-01 00:04:08|  2023-01-01 00:10:54|          0.7|         264|         264|         NULL|         NULL|   NULL|      NULL|   NULL|  NULL|           NULL|            NULL|                NULL|      NULL|              NULL|              NULL|            6|    1|  1|   0|     4|        1|      true|\n",
      "+--------------------+---------------------+-------------+------------+------------+-------------+-------------+-------+----------+-------+------+---------------+----------------+--------------------+----------+------------------+------------------+-------------+-----+---+----+------+---------+----------+\n",
      "only showing top 5 rows\n",
      "\n"
     ]
    }
   ],
   "source": [
    "merged_zone.filter(col(\"PU_Shape_Leng\").isNull()).show(5)"
   ]
  },
  {
   "cell_type": "code",
   "execution_count": 24,
   "id": "53f81626-c5f2-48cb-8909-a09befec2eac",
   "metadata": {},
   "outputs": [],
   "source": [
    "merged_zone = merged_zone.na.fill({'PU_Zone': 'OutsideNYC', 'DO_Zone':'OutsideNYC', 'PU_Borough': 'OutsideNYC', \\\n",
    "                     'DO_Borough':'OutsideNYC'})"
   ]
  },
  {
   "cell_type": "code",
   "execution_count": 25,
   "id": "0e6b1487-d455-4db1-9c97-9f08689a478e",
   "metadata": {},
   "outputs": [],
   "source": [
    "# numeric_cols = [field.name for field in merged_zone.schema.fields if isinstance(field.dataType, (DoubleType, IntegerType))]\n",
    "\n",
    "numeric_cols = ['PU_Long', 'PU_Lat',  'PU_Shape_Leng', 'PU_Shape_Area', 'DO_Long', 'DO_Lat',  'DO_Shape_Leng', 'DO_Shape_Area']\n",
    "for col_name in numeric_cols:\n",
    "    mean_value = merged_zone.select(mean(col(col_name))).collect()[0][0]\n",
    "    merged_zone = merged_zone.fillna({col_name: mean_value})"
   ]
  },
  {
   "cell_type": "code",
   "execution_count": 26,
   "id": "3bb6677c-4d75-48d7-bf68-79405b8f99b5",
   "metadata": {},
   "outputs": [
    {
     "data": {
      "text/html": [
       "<div>\n",
       "<style scoped>\n",
       "    .dataframe tbody tr th:only-of-type {\n",
       "        vertical-align: middle;\n",
       "    }\n",
       "\n",
       "    .dataframe tbody tr th {\n",
       "        vertical-align: top;\n",
       "    }\n",
       "\n",
       "    .dataframe thead th {\n",
       "        text-align: right;\n",
       "    }\n",
       "</style>\n",
       "<table border=\"1\" class=\"dataframe\">\n",
       "  <thead>\n",
       "    <tr style=\"text-align: right;\">\n",
       "      <th></th>\n",
       "      <th>OBJECTID</th>\n",
       "      <th>Shape_Leng</th>\n",
       "      <th>Shape_Area</th>\n",
       "      <th>zone</th>\n",
       "      <th>LocationID</th>\n",
       "      <th>borough</th>\n",
       "      <th>geometry</th>\n",
       "    </tr>\n",
       "  </thead>\n",
       "  <tbody>\n",
       "    <tr>\n",
       "      <th>0</th>\n",
       "      <td>1</td>\n",
       "      <td>0.116357</td>\n",
       "      <td>0.000782</td>\n",
       "      <td>Newark Airport</td>\n",
       "      <td>1</td>\n",
       "      <td>EWR</td>\n",
       "      <td>POLYGON ((933100.918 192536.086, 933091.011 19...</td>\n",
       "    </tr>\n",
       "    <tr>\n",
       "      <th>1</th>\n",
       "      <td>2</td>\n",
       "      <td>0.433470</td>\n",
       "      <td>0.004866</td>\n",
       "      <td>Jamaica Bay</td>\n",
       "      <td>2</td>\n",
       "      <td>Queens</td>\n",
       "      <td>MULTIPOLYGON (((1033269.244 172126.008, 103343...</td>\n",
       "    </tr>\n",
       "    <tr>\n",
       "      <th>2</th>\n",
       "      <td>3</td>\n",
       "      <td>0.084341</td>\n",
       "      <td>0.000314</td>\n",
       "      <td>Allerton/Pelham Gardens</td>\n",
       "      <td>3</td>\n",
       "      <td>Bronx</td>\n",
       "      <td>POLYGON ((1026308.770 256767.698, 1026495.593 ...</td>\n",
       "    </tr>\n",
       "    <tr>\n",
       "      <th>3</th>\n",
       "      <td>4</td>\n",
       "      <td>0.043567</td>\n",
       "      <td>0.000112</td>\n",
       "      <td>Alphabet City</td>\n",
       "      <td>4</td>\n",
       "      <td>Manhattan</td>\n",
       "      <td>POLYGON ((992073.467 203714.076, 992068.667 20...</td>\n",
       "    </tr>\n",
       "    <tr>\n",
       "      <th>4</th>\n",
       "      <td>5</td>\n",
       "      <td>0.092146</td>\n",
       "      <td>0.000498</td>\n",
       "      <td>Arden Heights</td>\n",
       "      <td>5</td>\n",
       "      <td>Staten Island</td>\n",
       "      <td>POLYGON ((935843.310 144283.336, 936046.565 14...</td>\n",
       "    </tr>\n",
       "    <tr>\n",
       "      <th>...</th>\n",
       "      <td>...</td>\n",
       "      <td>...</td>\n",
       "      <td>...</td>\n",
       "      <td>...</td>\n",
       "      <td>...</td>\n",
       "      <td>...</td>\n",
       "      <td>...</td>\n",
       "    </tr>\n",
       "    <tr>\n",
       "      <th>258</th>\n",
       "      <td>259</td>\n",
       "      <td>0.126750</td>\n",
       "      <td>0.000395</td>\n",
       "      <td>Woodlawn/Wakefield</td>\n",
       "      <td>259</td>\n",
       "      <td>Bronx</td>\n",
       "      <td>POLYGON ((1025414.782 270986.139, 1025138.624 ...</td>\n",
       "    </tr>\n",
       "    <tr>\n",
       "      <th>259</th>\n",
       "      <td>260</td>\n",
       "      <td>0.133514</td>\n",
       "      <td>0.000422</td>\n",
       "      <td>Woodside</td>\n",
       "      <td>260</td>\n",
       "      <td>Queens</td>\n",
       "      <td>POLYGON ((1011466.966 216463.005, 1011545.889 ...</td>\n",
       "    </tr>\n",
       "    <tr>\n",
       "      <th>260</th>\n",
       "      <td>261</td>\n",
       "      <td>0.027120</td>\n",
       "      <td>0.000034</td>\n",
       "      <td>World Trade Center</td>\n",
       "      <td>261</td>\n",
       "      <td>Manhattan</td>\n",
       "      <td>POLYGON ((980555.204 196138.486, 980570.792 19...</td>\n",
       "    </tr>\n",
       "    <tr>\n",
       "      <th>261</th>\n",
       "      <td>262</td>\n",
       "      <td>0.049064</td>\n",
       "      <td>0.000122</td>\n",
       "      <td>Yorkville East</td>\n",
       "      <td>262</td>\n",
       "      <td>Manhattan</td>\n",
       "      <td>MULTIPOLYGON (((999804.795 224498.527, 999824....</td>\n",
       "    </tr>\n",
       "    <tr>\n",
       "      <th>262</th>\n",
       "      <td>263</td>\n",
       "      <td>0.037017</td>\n",
       "      <td>0.000066</td>\n",
       "      <td>Yorkville West</td>\n",
       "      <td>263</td>\n",
       "      <td>Manhattan</td>\n",
       "      <td>POLYGON ((997493.323 220912.386, 997355.264 22...</td>\n",
       "    </tr>\n",
       "  </tbody>\n",
       "</table>\n",
       "<p>263 rows × 7 columns</p>\n",
       "</div>"
      ],
      "text/plain": [
       "     OBJECTID  Shape_Leng  Shape_Area                     zone  LocationID  \\\n",
       "0           1    0.116357    0.000782           Newark Airport           1   \n",
       "1           2    0.433470    0.004866              Jamaica Bay           2   \n",
       "2           3    0.084341    0.000314  Allerton/Pelham Gardens           3   \n",
       "3           4    0.043567    0.000112            Alphabet City           4   \n",
       "4           5    0.092146    0.000498            Arden Heights           5   \n",
       "..        ...         ...         ...                      ...         ...   \n",
       "258       259    0.126750    0.000395       Woodlawn/Wakefield         259   \n",
       "259       260    0.133514    0.000422                 Woodside         260   \n",
       "260       261    0.027120    0.000034       World Trade Center         261   \n",
       "261       262    0.049064    0.000122           Yorkville East         262   \n",
       "262       263    0.037017    0.000066           Yorkville West         263   \n",
       "\n",
       "           borough                                           geometry  \n",
       "0              EWR  POLYGON ((933100.918 192536.086, 933091.011 19...  \n",
       "1           Queens  MULTIPOLYGON (((1033269.244 172126.008, 103343...  \n",
       "2            Bronx  POLYGON ((1026308.770 256767.698, 1026495.593 ...  \n",
       "3        Manhattan  POLYGON ((992073.467 203714.076, 992068.667 20...  \n",
       "4    Staten Island  POLYGON ((935843.310 144283.336, 936046.565 14...  \n",
       "..             ...                                                ...  \n",
       "258          Bronx  POLYGON ((1025414.782 270986.139, 1025138.624 ...  \n",
       "259         Queens  POLYGON ((1011466.966 216463.005, 1011545.889 ...  \n",
       "260      Manhattan  POLYGON ((980555.204 196138.486, 980570.792 19...  \n",
       "261      Manhattan  MULTIPOLYGON (((999804.795 224498.527, 999824....  \n",
       "262      Manhattan  POLYGON ((997493.323 220912.386, 997355.264 22...  \n",
       "\n",
       "[263 rows x 7 columns]"
      ]
     },
     "execution_count": 26,
     "metadata": {},
     "output_type": "execute_result"
    }
   ],
   "source": [
    "gpd.read_file(\"yellow_taxi_data/taxi_zones/taxi_zones.shp\")"
   ]
  },
  {
   "cell_type": "code",
   "execution_count": 27,
   "id": "9f976c8e-d68e-4b9b-bfbc-bf307cb663b6",
   "metadata": {},
   "outputs": [],
   "source": [
    "na_counts = merged_zone.select([sum(col(c).isNull().cast(\"int\")).alias(c) for c in merged_zone.columns])"
   ]
  },
  {
   "cell_type": "code",
   "execution_count": 28,
   "id": "0cf70574-01c7-4550-8c5a-928433bcad12",
   "metadata": {},
   "outputs": [
    {
     "name": "stdout",
     "output_type": "stream",
     "text": [
      "+--------------------+---------------------+-------------+------------+------------+-------------+-------------+-------+----------+-------+------+-------------+-------------+-------+----------+-------+------+-------------+-----+---+----+------+---------+----------+\n",
      "|tpep_pickup_datetime|tpep_dropoff_datetime|trip_distance|PULocationID|DOLocationID|PU_Shape_Leng|PU_Shape_Area|PU_Zone|PU_Borough|PU_Long|PU_Lat|DO_Shape_Leng|DO_Shape_Area|DO_Zone|DO_Borough|DO_Long|DO_Lat|duration_mins|month|day|hour|minute|dayOfWeek|is_weekend|\n",
      "+--------------------+---------------------+-------------+------------+------------+-------------+-------------+-------+----------+-------+------+-------------+-------------+-------+----------+-------+------+-------------+-----+---+----+------+---------+----------+\n",
      "|                   0|                    0|            0|           0|           0|            0|            0|      0|         0|      0|     0|            0|            0|      0|         0|      0|     0|            0|    0|  0|   0|     0|        0|         0|\n",
      "+--------------------+---------------------+-------------+------------+------------+-------------+-------------+-------+----------+-------+------+-------------+-------------+-------+----------+-------+------+-------------+-----+---+----+------+---------+----------+\n",
      "\n"
     ]
    }
   ],
   "source": [
    "na_counts.show()"
   ]
  },
  {
   "cell_type": "code",
   "execution_count": 31,
   "id": "b998ce87-3f23-4d67-bee8-d768dc5f449e",
   "metadata": {},
   "outputs": [],
   "source": [
    "train_df, test_df = merged_zone.randomSplit(weights=[0.8,0.2], seed=11)"
   ]
  },
  {
   "cell_type": "code",
   "execution_count": 32,
   "id": "ab1ac9a1-1f92-45f7-a833-85adf9e9de9e",
   "metadata": {},
   "outputs": [],
   "source": [
    "label_name = \"duration_mins\"\n",
    "\n",
    "# get a list with feature column names\n",
    "feature_names = [x.name for x in train_df.schema if x.name != label_name]"
   ]
  },
  {
   "cell_type": "code",
   "execution_count": 34,
   "id": "f787e759-9c76-44d2-94b6-a00d4e407e8b",
   "metadata": {},
   "outputs": [],
   "source": [
    "from xgboost.spark import SparkXGBRegressor\n",
    "\n",
    "regressor = SparkXGBRegressor(\n",
    "  features_col=feature_names,\n",
    "  label_col=label_name,\n",
    "  num_workers=6,\n",
    "  device=\"cuda\",\n",
    ")\n"
   ]
  },
  {
   "cell_type": "code",
   "execution_count": 35,
   "id": "bd316169-a2e2-4edf-bdc9-d739eb6b47cd",
   "metadata": {},
   "outputs": [
    {
     "name": "stderr",
     "output_type": "stream",
     "text": [
      "2024-05-16 18:39:37,345 WARNING SparkXGBRegressor: _validate_gpu_params You have enabled GPU in spark local mode. Please make sure your local node has at least 6 GPUs\n"
     ]
    },
    {
     "ename": "ValueError",
     "evalue": "Values in feature columns must be integral types or float/double types.",
     "output_type": "error",
     "traceback": [
      "\u001b[0;31m---------------------------------------------------------------------------\u001b[0m",
      "\u001b[0;31mValueError\u001b[0m                                Traceback (most recent call last)",
      "Cell \u001b[0;32mIn[35], line 1\u001b[0m\n\u001b[0;32m----> 1\u001b[0m model \u001b[38;5;241m=\u001b[39m \u001b[43mregressor\u001b[49m\u001b[38;5;241;43m.\u001b[39;49m\u001b[43mfit\u001b[49m\u001b[43m(\u001b[49m\u001b[43mtrain_df\u001b[49m\u001b[43m)\u001b[49m\n",
      "File \u001b[0;32m/usr/local/spark/python/pyspark/ml/base.py:205\u001b[0m, in \u001b[0;36mEstimator.fit\u001b[0;34m(self, dataset, params)\u001b[0m\n\u001b[1;32m    203\u001b[0m         \u001b[38;5;28;01mreturn\u001b[39;00m \u001b[38;5;28mself\u001b[39m\u001b[38;5;241m.\u001b[39mcopy(params)\u001b[38;5;241m.\u001b[39m_fit(dataset)\n\u001b[1;32m    204\u001b[0m     \u001b[38;5;28;01melse\u001b[39;00m:\n\u001b[0;32m--> 205\u001b[0m         \u001b[38;5;28;01mreturn\u001b[39;00m \u001b[38;5;28;43mself\u001b[39;49m\u001b[38;5;241;43m.\u001b[39;49m\u001b[43m_fit\u001b[49m\u001b[43m(\u001b[49m\u001b[43mdataset\u001b[49m\u001b[43m)\u001b[49m\n\u001b[1;32m    206\u001b[0m \u001b[38;5;28;01melse\u001b[39;00m:\n\u001b[1;32m    207\u001b[0m     \u001b[38;5;28;01mraise\u001b[39;00m \u001b[38;5;167;01mTypeError\u001b[39;00m(\n\u001b[1;32m    208\u001b[0m         \u001b[38;5;124m\"\u001b[39m\u001b[38;5;124mParams must be either a param map or a list/tuple of param maps, \u001b[39m\u001b[38;5;124m\"\u001b[39m\n\u001b[1;32m    209\u001b[0m         \u001b[38;5;124m\"\u001b[39m\u001b[38;5;124mbut got \u001b[39m\u001b[38;5;132;01m%s\u001b[39;00m\u001b[38;5;124m.\u001b[39m\u001b[38;5;124m\"\u001b[39m \u001b[38;5;241m%\u001b[39m \u001b[38;5;28mtype\u001b[39m(params)\n\u001b[1;32m    210\u001b[0m     )\n",
      "File \u001b[0;32m/opt/conda/lib/python3.11/site-packages/xgboost/spark/core.py:1017\u001b[0m, in \u001b[0;36m_SparkXGBEstimator._fit\u001b[0;34m(self, dataset)\u001b[0m\n\u001b[1;32m   1013\u001b[0m \u001b[38;5;28;01mdef\u001b[39;00m \u001b[38;5;21m_fit\u001b[39m(\u001b[38;5;28mself\u001b[39m, dataset: DataFrame) \u001b[38;5;241m-\u001b[39m\u001b[38;5;241m>\u001b[39m \u001b[38;5;124m\"\u001b[39m\u001b[38;5;124m_SparkXGBModel\u001b[39m\u001b[38;5;124m\"\u001b[39m:\n\u001b[1;32m   1014\u001b[0m     \u001b[38;5;66;03m# pylint: disable=too-many-statements, too-many-locals\u001b[39;00m\n\u001b[1;32m   1015\u001b[0m     \u001b[38;5;28mself\u001b[39m\u001b[38;5;241m.\u001b[39m_validate_params()\n\u001b[0;32m-> 1017\u001b[0m     dataset, feature_prop \u001b[38;5;241m=\u001b[39m \u001b[38;5;28;43mself\u001b[39;49m\u001b[38;5;241;43m.\u001b[39;49m\u001b[43m_prepare_input\u001b[49m\u001b[43m(\u001b[49m\u001b[43mdataset\u001b[49m\u001b[43m)\u001b[49m\n\u001b[1;32m   1019\u001b[0m     (\n\u001b[1;32m   1020\u001b[0m         booster_params,\n\u001b[1;32m   1021\u001b[0m         train_call_kwargs_params,\n\u001b[1;32m   1022\u001b[0m         dmatrix_kwargs,\n\u001b[1;32m   1023\u001b[0m     ) \u001b[38;5;241m=\u001b[39m \u001b[38;5;28mself\u001b[39m\u001b[38;5;241m.\u001b[39m_get_xgb_parameters(dataset)\n\u001b[1;32m   1025\u001b[0m     run_on_gpu \u001b[38;5;241m=\u001b[39m use_cuda(\u001b[38;5;28mself\u001b[39m\u001b[38;5;241m.\u001b[39mgetOrDefault(\u001b[38;5;28mself\u001b[39m\u001b[38;5;241m.\u001b[39mdevice)) \u001b[38;5;129;01mor\u001b[39;00m \u001b[38;5;28mself\u001b[39m\u001b[38;5;241m.\u001b[39mgetOrDefault(\n\u001b[1;32m   1026\u001b[0m         \u001b[38;5;28mself\u001b[39m\u001b[38;5;241m.\u001b[39muse_gpu\n\u001b[1;32m   1027\u001b[0m     )\n",
      "File \u001b[0;32m/opt/conda/lib/python3.11/site-packages/xgboost/spark/core.py:832\u001b[0m, in \u001b[0;36m_SparkXGBEstimator._prepare_input\u001b[0;34m(self, dataset)\u001b[0m\n\u001b[1;32m    829\u001b[0m \u001b[38;5;28;01mdef\u001b[39;00m \u001b[38;5;21m_prepare_input\u001b[39m(\u001b[38;5;28mself\u001b[39m, dataset: DataFrame) \u001b[38;5;241m-\u001b[39m\u001b[38;5;241m>\u001b[39m Tuple[DataFrame, FeatureProp]:\n\u001b[1;32m    830\u001b[0m \u001b[38;5;250m    \u001b[39m\u001b[38;5;124;03m\"\"\"Prepare the input including column pruning, repartition and so on\"\"\"\u001b[39;00m\n\u001b[0;32m--> 832\u001b[0m     select_cols, feature_prop \u001b[38;5;241m=\u001b[39m \u001b[38;5;28;43mself\u001b[39;49m\u001b[38;5;241;43m.\u001b[39;49m\u001b[43m_prepare_input_columns_and_feature_prop\u001b[49m\u001b[43m(\u001b[49m\n\u001b[1;32m    833\u001b[0m \u001b[43m        \u001b[49m\u001b[43mdataset\u001b[49m\n\u001b[1;32m    834\u001b[0m \u001b[43m    \u001b[49m\u001b[43m)\u001b[49m\n\u001b[1;32m    836\u001b[0m     dataset \u001b[38;5;241m=\u001b[39m dataset\u001b[38;5;241m.\u001b[39mselect(\u001b[38;5;241m*\u001b[39mselect_cols)\n\u001b[1;32m    838\u001b[0m     num_workers \u001b[38;5;241m=\u001b[39m \u001b[38;5;28mself\u001b[39m\u001b[38;5;241m.\u001b[39mgetOrDefault(\u001b[38;5;28mself\u001b[39m\u001b[38;5;241m.\u001b[39mnum_workers)\n",
      "File \u001b[0;32m/opt/conda/lib/python3.11/site-packages/xgboost/spark/core.py:785\u001b[0m, in \u001b[0;36m_SparkXGBEstimator._prepare_input_columns_and_feature_prop\u001b[0;34m(self, dataset)\u001b[0m\n\u001b[1;32m    783\u001b[0m \u001b[38;5;28;01mif\u001b[39;00m \u001b[38;5;28mself\u001b[39m\u001b[38;5;241m.\u001b[39mgetOrDefault(\u001b[38;5;28mself\u001b[39m\u001b[38;5;241m.\u001b[39mfeatures_cols):\n\u001b[1;32m    784\u001b[0m     features_cols_names \u001b[38;5;241m=\u001b[39m \u001b[38;5;28mself\u001b[39m\u001b[38;5;241m.\u001b[39mgetOrDefault(\u001b[38;5;28mself\u001b[39m\u001b[38;5;241m.\u001b[39mfeatures_cols)\n\u001b[0;32m--> 785\u001b[0m     features_cols \u001b[38;5;241m=\u001b[39m \u001b[43m_validate_and_convert_feature_col_as_float_col_list\u001b[49m\u001b[43m(\u001b[49m\n\u001b[1;32m    786\u001b[0m \u001b[43m        \u001b[49m\u001b[43mdataset\u001b[49m\u001b[43m,\u001b[49m\u001b[43m \u001b[49m\u001b[43mfeatures_cols_names\u001b[49m\n\u001b[1;32m    787\u001b[0m \u001b[43m    \u001b[49m\u001b[43m)\u001b[49m\n\u001b[1;32m    788\u001b[0m     select_cols\u001b[38;5;241m.\u001b[39mextend(features_cols)\n\u001b[1;32m    789\u001b[0m \u001b[38;5;28;01melse\u001b[39;00m:\n",
      "File \u001b[0;32m/opt/conda/lib/python3.11/site-packages/xgboost/spark/core.py:488\u001b[0m, in \u001b[0;36m_validate_and_convert_feature_col_as_float_col_list\u001b[0;34m(dataset, features_col_names)\u001b[0m\n\u001b[1;32m    486\u001b[0m         feature_cols\u001b[38;5;241m.\u001b[39mappend(col(c))\n\u001b[1;32m    487\u001b[0m     \u001b[38;5;28;01melse\u001b[39;00m:\n\u001b[0;32m--> 488\u001b[0m         \u001b[38;5;28;01mraise\u001b[39;00m \u001b[38;5;167;01mValueError\u001b[39;00m(\n\u001b[1;32m    489\u001b[0m             \u001b[38;5;124m\"\u001b[39m\u001b[38;5;124mValues in feature columns must be integral types or float/double types.\u001b[39m\u001b[38;5;124m\"\u001b[39m\n\u001b[1;32m    490\u001b[0m         )\n\u001b[1;32m    491\u001b[0m \u001b[38;5;28;01mreturn\u001b[39;00m feature_cols\n",
      "\u001b[0;31mValueError\u001b[0m: Values in feature columns must be integral types or float/double types."
     ]
    }
   ],
   "source": [
    "model = regressor.fit(train_df)\n"
   ]
  },
  {
   "cell_type": "code",
   "execution_count": null,
   "id": "58ae4960-826e-458c-8281-35ff6ec6598d",
   "metadata": {},
   "outputs": [],
   "source": []
  }
 ],
 "metadata": {
  "kernelspec": {
   "display_name": "Python 3 (ipykernel)",
   "language": "python",
   "name": "python3"
  },
  "language_info": {
   "codemirror_mode": {
    "name": "ipython",
    "version": 3
   },
   "file_extension": ".py",
   "mimetype": "text/x-python",
   "name": "python",
   "nbconvert_exporter": "python",
   "pygments_lexer": "ipython3",
   "version": "3.11.6"
  }
 },
 "nbformat": 4,
 "nbformat_minor": 5
}
